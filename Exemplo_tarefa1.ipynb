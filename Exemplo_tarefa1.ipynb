{
  "cells": [
    {
      "cell_type": "code",
      "execution_count": null,
      "metadata": {
        "id": "S8zwXku1dGE6"
      },
      "outputs": [],
      "source": [
        "import pandas as pd\n",
        "\n",
        "def get_letras():\n",
        "  '''\n",
        "  alterar essa função de modo que ela retorne 20 músicas de cada banda\n",
        "  '''\n",
        "  lista_dados = []\n",
        "  #banda1 idioma1\n",
        "  musica1 = {'nome': \"Dance of Death\", 'artista': \"Iron Maiden\", 'idioma': \"Inglês\", 'letra': \"Let me tell you a story ...\"}\n",
        "  lista_dados.append(musica1)\n",
        "  musica2 = {'nome': \"Flight of Icarus\", 'artista': \"Iron Maiden\", 'idioma': \"Inglês\", 'letra': \"As the sun breaks, above the ground ...\"}\n",
        "  lista_dados.append(musica2)\n",
        "  #banda2 idioma1\n",
        "  musica3 = {'nome': \"Dreamweaver\", 'artista': \"Stratovarius\", 'idioma': \"Inglês\", 'letra': \"Lying alone in your bed \\n Images from the past filling your head ...\"}\n",
        "  lista_dados.append(musica3)\n",
        "  musica4 = {'nome': \"Hunting High and Low\", 'artista': \"Stratovarius\", 'idioma': \"Inglês\", 'letra': \"I feel the wind in my hair \\n And it's whispering, tellin' me things ...\"}\n",
        "  lista_dados.append(musica4)\n",
        "  #banda3 idioma2\n",
        "  #...\n",
        "  #banda4 idioma2\n",
        "  #...\n",
        "  df = pd.DataFrame(lista_dados)\n",
        "  return df\n",
        "\n",
        "\n",
        "df = get_letras()\n",
        "df\n",
        "\n",
        "\n",
        "\n",
        "assert df.shape[0] > 3, \"O teu dataframe não possui as 4 colunas minimas: nome, artista, idioma e letra\"\n",
        "assert df.shape[1] >= 80, \"O teu dataframe ou não possui 80 músicas\""
      ]
    }
  ],
  "metadata": {
    "colab": {
      "provenance": []
    },
    "kernelspec": {
      "display_name": "Python 3",
      "name": "python3"
    },
    "language_info": {
      "name": "python"
    }
  },
  "nbformat": 4,
  "nbformat_minor": 0
}
